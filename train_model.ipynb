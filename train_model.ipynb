{
 "cells": [
  {
   "cell_type": "code",
   "execution_count": 1,
   "metadata": {},
   "outputs": [
    {
     "name": "stdout",
     "output_type": "stream",
     "text": [
      "Requirement already satisfied: torch in ./venv/lib/python3.12/site-packages (2.7.1)\n",
      "Requirement already satisfied: filelock in ./venv/lib/python3.12/site-packages (from torch) (3.18.0)\n",
      "Requirement already satisfied: typing-extensions>=4.10.0 in ./venv/lib/python3.12/site-packages (from torch) (4.14.0)\n",
      "Requirement already satisfied: setuptools in ./venv/lib/python3.12/site-packages (from torch) (80.9.0)\n",
      "Requirement already satisfied: sympy>=1.13.3 in ./venv/lib/python3.12/site-packages (from torch) (1.14.0)\n",
      "Requirement already satisfied: networkx in ./venv/lib/python3.12/site-packages (from torch) (3.5)\n",
      "Requirement already satisfied: jinja2 in ./venv/lib/python3.12/site-packages (from torch) (3.1.6)\n",
      "Requirement already satisfied: fsspec in ./venv/lib/python3.12/site-packages (from torch) (2025.5.1)\n",
      "Requirement already satisfied: nvidia-cuda-nvrtc-cu12==12.6.77 in ./venv/lib/python3.12/site-packages (from torch) (12.6.77)\n",
      "Requirement already satisfied: nvidia-cuda-runtime-cu12==12.6.77 in ./venv/lib/python3.12/site-packages (from torch) (12.6.77)\n",
      "Requirement already satisfied: nvidia-cuda-cupti-cu12==12.6.80 in ./venv/lib/python3.12/site-packages (from torch) (12.6.80)\n",
      "Requirement already satisfied: nvidia-cudnn-cu12==9.5.1.17 in ./venv/lib/python3.12/site-packages (from torch) (9.5.1.17)\n",
      "Requirement already satisfied: nvidia-cublas-cu12==12.6.4.1 in ./venv/lib/python3.12/site-packages (from torch) (12.6.4.1)\n",
      "Requirement already satisfied: nvidia-cufft-cu12==11.3.0.4 in ./venv/lib/python3.12/site-packages (from torch) (11.3.0.4)\n",
      "Requirement already satisfied: nvidia-curand-cu12==10.3.7.77 in ./venv/lib/python3.12/site-packages (from torch) (10.3.7.77)\n",
      "Requirement already satisfied: nvidia-cusolver-cu12==11.7.1.2 in ./venv/lib/python3.12/site-packages (from torch) (11.7.1.2)\n",
      "Requirement already satisfied: nvidia-cusparse-cu12==12.5.4.2 in ./venv/lib/python3.12/site-packages (from torch) (12.5.4.2)\n",
      "Requirement already satisfied: nvidia-cusparselt-cu12==0.6.3 in ./venv/lib/python3.12/site-packages (from torch) (0.6.3)\n",
      "Requirement already satisfied: nvidia-nccl-cu12==2.26.2 in ./venv/lib/python3.12/site-packages (from torch) (2.26.2)\n",
      "Requirement already satisfied: nvidia-nvtx-cu12==12.6.77 in ./venv/lib/python3.12/site-packages (from torch) (12.6.77)\n",
      "Requirement already satisfied: nvidia-nvjitlink-cu12==12.6.85 in ./venv/lib/python3.12/site-packages (from torch) (12.6.85)\n",
      "Requirement already satisfied: nvidia-cufile-cu12==1.11.1.6 in ./venv/lib/python3.12/site-packages (from torch) (1.11.1.6)\n",
      "Requirement already satisfied: triton==3.3.1 in ./venv/lib/python3.12/site-packages (from torch) (3.3.1)\n",
      "Requirement already satisfied: mpmath<1.4,>=1.1.0 in ./venv/lib/python3.12/site-packages (from sympy>=1.13.3->torch) (1.3.0)\n",
      "Requirement already satisfied: MarkupSafe>=2.0 in ./venv/lib/python3.12/site-packages (from jinja2->torch) (3.0.2)\n",
      "Note: you may need to restart the kernel to use updated packages.\n",
      "Requirement already satisfied: open3d in ./venv/lib/python3.12/site-packages (0.19.0)\n",
      "Requirement already satisfied: numpy>=1.18.0 in ./venv/lib/python3.12/site-packages (from open3d) (2.3.1)\n",
      "Requirement already satisfied: dash>=2.6.0 in ./venv/lib/python3.12/site-packages (from open3d) (3.1.1)\n",
      "Requirement already satisfied: werkzeug>=3.0.0 in ./venv/lib/python3.12/site-packages (from open3d) (3.1.3)\n",
      "Requirement already satisfied: flask>=3.0.0 in ./venv/lib/python3.12/site-packages (from open3d) (3.1.1)\n",
      "Requirement already satisfied: nbformat>=5.7.0 in ./venv/lib/python3.12/site-packages (from open3d) (5.10.4)\n",
      "Requirement already satisfied: configargparse in ./venv/lib/python3.12/site-packages (from open3d) (1.7.1)\n",
      "Requirement already satisfied: ipywidgets>=8.0.4 in ./venv/lib/python3.12/site-packages (from open3d) (8.1.7)\n",
      "Requirement already satisfied: addict in ./venv/lib/python3.12/site-packages (from open3d) (2.4.0)\n",
      "Requirement already satisfied: pillow>=9.3.0 in ./venv/lib/python3.12/site-packages (from open3d) (11.3.0)\n",
      "Requirement already satisfied: matplotlib>=3 in ./venv/lib/python3.12/site-packages (from open3d) (3.10.3)\n",
      "Requirement already satisfied: pandas>=1.0 in ./venv/lib/python3.12/site-packages (from open3d) (2.3.0)\n",
      "Requirement already satisfied: pyyaml>=5.4.1 in ./venv/lib/python3.12/site-packages (from open3d) (6.0.2)\n",
      "Requirement already satisfied: scikit-learn>=0.21 in ./venv/lib/python3.12/site-packages (from open3d) (1.7.0)\n",
      "Requirement already satisfied: tqdm in ./venv/lib/python3.12/site-packages (from open3d) (4.67.1)\n",
      "Requirement already satisfied: pyquaternion in ./venv/lib/python3.12/site-packages (from open3d) (0.9.9)\n",
      "Requirement already satisfied: plotly>=5.0.0 in ./venv/lib/python3.12/site-packages (from dash>=2.6.0->open3d) (6.2.0)\n",
      "Requirement already satisfied: importlib-metadata in ./venv/lib/python3.12/site-packages (from dash>=2.6.0->open3d) (8.7.0)\n",
      "Requirement already satisfied: typing-extensions>=4.1.1 in ./venv/lib/python3.12/site-packages (from dash>=2.6.0->open3d) (4.14.0)\n",
      "Requirement already satisfied: requests in ./venv/lib/python3.12/site-packages (from dash>=2.6.0->open3d) (2.32.4)\n",
      "Requirement already satisfied: retrying in ./venv/lib/python3.12/site-packages (from dash>=2.6.0->open3d) (1.4.0)\n",
      "Requirement already satisfied: nest-asyncio in ./venv/lib/python3.12/site-packages (from dash>=2.6.0->open3d) (1.6.0)\n",
      "Requirement already satisfied: setuptools in ./venv/lib/python3.12/site-packages (from dash>=2.6.0->open3d) (80.9.0)\n",
      "Requirement already satisfied: blinker>=1.9.0 in ./venv/lib/python3.12/site-packages (from flask>=3.0.0->open3d) (1.9.0)\n",
      "Requirement already satisfied: click>=8.1.3 in ./venv/lib/python3.12/site-packages (from flask>=3.0.0->open3d) (8.2.1)\n",
      "Requirement already satisfied: itsdangerous>=2.2.0 in ./venv/lib/python3.12/site-packages (from flask>=3.0.0->open3d) (2.2.0)\n",
      "Requirement already satisfied: jinja2>=3.1.2 in ./venv/lib/python3.12/site-packages (from flask>=3.0.0->open3d) (3.1.6)\n",
      "Requirement already satisfied: markupsafe>=2.1.1 in ./venv/lib/python3.12/site-packages (from flask>=3.0.0->open3d) (3.0.2)\n",
      "Requirement already satisfied: comm>=0.1.3 in ./venv/lib/python3.12/site-packages (from ipywidgets>=8.0.4->open3d) (0.2.2)\n",
      "Requirement already satisfied: ipython>=6.1.0 in ./venv/lib/python3.12/site-packages (from ipywidgets>=8.0.4->open3d) (9.4.0)\n",
      "Requirement already satisfied: traitlets>=4.3.1 in ./venv/lib/python3.12/site-packages (from ipywidgets>=8.0.4->open3d) (5.14.3)\n",
      "Requirement already satisfied: widgetsnbextension~=4.0.14 in ./venv/lib/python3.12/site-packages (from ipywidgets>=8.0.4->open3d) (4.0.14)\n",
      "Requirement already satisfied: jupyterlab_widgets~=3.0.15 in ./venv/lib/python3.12/site-packages (from ipywidgets>=8.0.4->open3d) (3.0.15)\n",
      "Requirement already satisfied: contourpy>=1.0.1 in ./venv/lib/python3.12/site-packages (from matplotlib>=3->open3d) (1.3.2)\n",
      "Requirement already satisfied: cycler>=0.10 in ./venv/lib/python3.12/site-packages (from matplotlib>=3->open3d) (0.12.1)\n",
      "Requirement already satisfied: fonttools>=4.22.0 in ./venv/lib/python3.12/site-packages (from matplotlib>=3->open3d) (4.58.5)\n",
      "Requirement already satisfied: kiwisolver>=1.3.1 in ./venv/lib/python3.12/site-packages (from matplotlib>=3->open3d) (1.4.8)\n",
      "Requirement already satisfied: packaging>=20.0 in ./venv/lib/python3.12/site-packages (from matplotlib>=3->open3d) (25.0)\n",
      "Requirement already satisfied: pyparsing>=2.3.1 in ./venv/lib/python3.12/site-packages (from matplotlib>=3->open3d) (3.2.3)\n",
      "Requirement already satisfied: python-dateutil>=2.7 in ./venv/lib/python3.12/site-packages (from matplotlib>=3->open3d) (2.9.0.post0)\n",
      "Requirement already satisfied: fastjsonschema>=2.15 in ./venv/lib/python3.12/site-packages (from nbformat>=5.7.0->open3d) (2.21.1)\n",
      "Requirement already satisfied: jsonschema>=2.6 in ./venv/lib/python3.12/site-packages (from nbformat>=5.7.0->open3d) (4.24.0)\n",
      "Requirement already satisfied: jupyter-core!=5.0.*,>=4.12 in ./venv/lib/python3.12/site-packages (from nbformat>=5.7.0->open3d) (5.8.1)\n",
      "Requirement already satisfied: pytz>=2020.1 in ./venv/lib/python3.12/site-packages (from pandas>=1.0->open3d) (2025.2)\n",
      "Requirement already satisfied: tzdata>=2022.7 in ./venv/lib/python3.12/site-packages (from pandas>=1.0->open3d) (2025.2)\n",
      "Requirement already satisfied: scipy>=1.8.0 in ./venv/lib/python3.12/site-packages (from scikit-learn>=0.21->open3d) (1.16.0)\n",
      "Requirement already satisfied: joblib>=1.2.0 in ./venv/lib/python3.12/site-packages (from scikit-learn>=0.21->open3d) (1.5.1)\n",
      "Requirement already satisfied: threadpoolctl>=3.1.0 in ./venv/lib/python3.12/site-packages (from scikit-learn>=0.21->open3d) (3.6.0)\n",
      "Requirement already satisfied: decorator in ./venv/lib/python3.12/site-packages (from ipython>=6.1.0->ipywidgets>=8.0.4->open3d) (5.2.1)\n",
      "Requirement already satisfied: ipython-pygments-lexers in ./venv/lib/python3.12/site-packages (from ipython>=6.1.0->ipywidgets>=8.0.4->open3d) (1.1.1)\n",
      "Requirement already satisfied: jedi>=0.16 in ./venv/lib/python3.12/site-packages (from ipython>=6.1.0->ipywidgets>=8.0.4->open3d) (0.19.2)\n",
      "Requirement already satisfied: matplotlib-inline in ./venv/lib/python3.12/site-packages (from ipython>=6.1.0->ipywidgets>=8.0.4->open3d) (0.1.7)\n",
      "Requirement already satisfied: pexpect>4.3 in ./venv/lib/python3.12/site-packages (from ipython>=6.1.0->ipywidgets>=8.0.4->open3d) (4.9.0)\n",
      "Requirement already satisfied: prompt_toolkit<3.1.0,>=3.0.41 in ./venv/lib/python3.12/site-packages (from ipython>=6.1.0->ipywidgets>=8.0.4->open3d) (3.0.51)\n",
      "Requirement already satisfied: pygments>=2.4.0 in ./venv/lib/python3.12/site-packages (from ipython>=6.1.0->ipywidgets>=8.0.4->open3d) (2.19.2)\n",
      "Requirement already satisfied: stack_data in ./venv/lib/python3.12/site-packages (from ipython>=6.1.0->ipywidgets>=8.0.4->open3d) (0.6.3)\n",
      "Requirement already satisfied: attrs>=22.2.0 in ./venv/lib/python3.12/site-packages (from jsonschema>=2.6->nbformat>=5.7.0->open3d) (25.3.0)\n",
      "Requirement already satisfied: jsonschema-specifications>=2023.03.6 in ./venv/lib/python3.12/site-packages (from jsonschema>=2.6->nbformat>=5.7.0->open3d) (2025.4.1)\n",
      "Requirement already satisfied: referencing>=0.28.4 in ./venv/lib/python3.12/site-packages (from jsonschema>=2.6->nbformat>=5.7.0->open3d) (0.36.2)\n",
      "Requirement already satisfied: rpds-py>=0.7.1 in ./venv/lib/python3.12/site-packages (from jsonschema>=2.6->nbformat>=5.7.0->open3d) (0.26.0)\n",
      "Requirement already satisfied: platformdirs>=2.5 in ./venv/lib/python3.12/site-packages (from jupyter-core!=5.0.*,>=4.12->nbformat>=5.7.0->open3d) (4.3.8)\n",
      "Requirement already satisfied: narwhals>=1.15.1 in ./venv/lib/python3.12/site-packages (from plotly>=5.0.0->dash>=2.6.0->open3d) (1.45.0)\n",
      "Requirement already satisfied: six>=1.5 in ./venv/lib/python3.12/site-packages (from python-dateutil>=2.7->matplotlib>=3->open3d) (1.17.0)\n",
      "Requirement already satisfied: zipp>=3.20 in ./venv/lib/python3.12/site-packages (from importlib-metadata->dash>=2.6.0->open3d) (3.23.0)\n",
      "Requirement already satisfied: charset_normalizer<4,>=2 in ./venv/lib/python3.12/site-packages (from requests->dash>=2.6.0->open3d) (3.4.2)\n",
      "Requirement already satisfied: idna<4,>=2.5 in ./venv/lib/python3.12/site-packages (from requests->dash>=2.6.0->open3d) (3.10)\n",
      "Requirement already satisfied: urllib3<3,>=1.21.1 in ./venv/lib/python3.12/site-packages (from requests->dash>=2.6.0->open3d) (2.5.0)\n",
      "Requirement already satisfied: certifi>=2017.4.17 in ./venv/lib/python3.12/site-packages (from requests->dash>=2.6.0->open3d) (2025.6.15)\n",
      "Requirement already satisfied: parso<0.9.0,>=0.8.4 in ./venv/lib/python3.12/site-packages (from jedi>=0.16->ipython>=6.1.0->ipywidgets>=8.0.4->open3d) (0.8.4)\n",
      "Requirement already satisfied: ptyprocess>=0.5 in ./venv/lib/python3.12/site-packages (from pexpect>4.3->ipython>=6.1.0->ipywidgets>=8.0.4->open3d) (0.7.0)\n",
      "Requirement already satisfied: wcwidth in ./venv/lib/python3.12/site-packages (from prompt_toolkit<3.1.0,>=3.0.41->ipython>=6.1.0->ipywidgets>=8.0.4->open3d) (0.2.13)\n",
      "Requirement already satisfied: executing>=1.2.0 in ./venv/lib/python3.12/site-packages (from stack_data->ipython>=6.1.0->ipywidgets>=8.0.4->open3d) (2.2.0)\n",
      "Requirement already satisfied: asttokens>=2.1.0 in ./venv/lib/python3.12/site-packages (from stack_data->ipython>=6.1.0->ipywidgets>=8.0.4->open3d) (3.0.0)\n",
      "Requirement already satisfied: pure-eval in ./venv/lib/python3.12/site-packages (from stack_data->ipython>=6.1.0->ipywidgets>=8.0.4->open3d) (0.2.3)\n",
      "Note: you may need to restart the kernel to use updated packages.\n",
      "Requirement already satisfied: tabulate in ./venv/lib/python3.12/site-packages (0.9.0)\n",
      "Note: you may need to restart the kernel to use updated packages.\n"
     ]
    }
   ],
   "source": [
    "## Instalaciones\n",
    "\n",
    "%pip install torch\n",
    "%pip install open3d\n",
    "%pip install tabulate"
   ]
  },
  {
   "cell_type": "code",
   "execution_count": 2,
   "metadata": {},
   "outputs": [
    {
     "name": "stdout",
     "output_type": "stream",
     "text": [
      "Jupyter environment detected. Enabling Open3D WebVisualizer.\n",
      "[Open3D INFO] WebRTC GUI backend enabled.\n",
      "[Open3D INFO] WebRTCWindowSystem: HTTP handshake server disabled.\n",
      "Using cuda.\n"
     ]
    }
   ],
   "source": [
    "## Dependencias\n",
    "\n",
    "from typing import List\n",
    "import torch\n",
    "import os\n",
    "import open3d as o3d\n",
    "import numpy as np\n",
    "import torch.optim as optim\n",
    "from torch.utils.data import DataLoader\n",
    "from model import PointNetClassifier, PointNetLoss, PointNetKAN\n",
    "from modelnet10 import ModelNetClass, ModelNet, DatasetType\n",
    "from utils.csv import save_loss_dict\n",
    "from utils.transformation import (Normalization,\n",
    "                                  Rotation, Translation, Reflection, Scale,\n",
    "                                  DropRandom, DropSphere, Jittering, Noise)\n",
    "from trainer import PointNetTrainer\n",
    "\n",
    "\n",
    "DEVICE = 'cuda' if torch.cuda.is_available() else 'cpu'\n",
    "print(f\"Using {DEVICE}.\")"
   ]
  },
  {
   "cell_type": "code",
   "execution_count": 3,
   "metadata": {},
   "outputs": [],
   "source": [
    "# parámetros globales\n",
    "checkpoint_freq = 25\n",
    "\n",
    "# parámetros del dataset\n",
    "classes = [label for label in ModelNetClass]\n",
    "batch_size = 32\n",
    "dim = 3\n",
    "num_points = 1024\n",
    "num_classes = len(classes)\n",
    "\n",
    "# hiperparámetros\n",
    "num_global_feats = 1024     # número de features globales calculadas\n",
    "learning_rate = 0.001\n",
    "reg_weight = 0.001\n",
    "gamma = 2                   # Recomendado por el paper de focal loss\n",
    "\n",
    "# dataset de entrenamiento\n",
    "t = [Rotation(), Reflection(), Scale(max_ratio=2.5),\n",
    "    Jittering(max_units=0.005), DropRandom(loss_ratio=0.4), Noise()]\n",
    "\n",
    "train_data = ModelNet(classes, DatasetType.TRAIN, repetitions=3, transformations=t, preserve_original=False)\n",
    "validation_data = ModelNet(classes, DatasetType.VALIDATION, repetitions=3, transformations=t, preserve_original=False)\n",
    "    \n",
    "# TODO: Más adelante usar alpha para clases imbalanceadas"
   ]
  },
  {
   "cell_type": "code",
   "execution_count": null,
   "metadata": {},
   "outputs": [],
   "source": [
    "# Función de entrenamiento\n",
    "def train(\n",
    "        epochs: int,\n",
    "        name: str,\n",
    "        num_global_feats: int,\n",
    "        learning_rate: int,\n",
    "        use_scheduler: bool,\n",
    "        alpha: List[int],\n",
    "        gamma: int,\n",
    "        reg_weight: int,\n",
    "        use_kan: bool,\n",
    "        ignore_Tnet: bool,\n",
    "):\n",
    "    if not use_kan:\n",
    "        classifier = PointNetClassifier(dim, num_points, num_global_feats, num_classes, ignore_Tnet=ignore_Tnet).to(DEVICE)\n",
    "    else:\n",
    "        classifier = PointNetKAN(dim, num_points, num_classes, scaling = 2.0).to(DEVICE)\n",
    "    optimizer = optim.Adam(classifier.parameters(), lr=learning_rate)\n",
    "    if DEVICE == \"cuda\" and use_scheduler:\n",
    "        scheduler = torch.optim.lr_scheduler.CyclicLR(optimizer, base_lr=0.0001, max_lr=0.01, step_size_up=2000, cycle_momentum=False)\n",
    "    else:\n",
    "        scheduler = None\n",
    "    \n",
    "    trainer = PointNetTrainer(\n",
    "        name=name,\n",
    "        model=classifier,\n",
    "        optimizer=optimizer,\n",
    "        scheduler=scheduler,\n",
    "        criterion=PointNetLoss(alpha=alpha, gamma=gamma, reg_weight=reg_weight, size_average=True).to(DEVICE),\n",
    "        device=DEVICE,\n",
    "        train_loader=DataLoader(train_data, batch_size=batch_size, shuffle=True),\n",
    "        val_loader=DataLoader(validation_data, batch_size=batch_size, shuffle=False),\n",
    "        checkpoint_dir=os.path.join(os.getcwd(), \"checkpoint\"),\n",
    "        checkpoint_freq=checkpoint_freq\n",
    "    )\n",
    "\n",
    "    loss_dict, best_epoch, best_loss, best_acc = trainer.fit(epochs=epochs)\n",
    "    #save_loss_dict(loss_dict, os.path.join(os.getcwd(), \"csv\", f\"{name}_loss_dict.csv\"))\n",
    "    print(f\"{name} | Best model @ epoch {best_epoch}: loss = {best_loss:.4f}, acc = {best_acc:.4f}\")\n",
    "\n",
    "# Instancias de entrenamiento\n",
    "EPOCHS=200"
   ]
  },
  {
   "cell_type": "code",
   "execution_count": 5,
   "metadata": {},
   "outputs": [
    {
     "name": "stdout",
     "output_type": "stream",
     "text": [
      "╒═════════╤══════════════╤═════════════╤════════════╤═══════════╕\n",
      "│ Epoch   │   Train Loss │   Train Acc │   Val Loss │   Val Acc │\n",
      "╞═════════╪══════════════╪═════════════╪════════════╪═══════════╡\n",
      "│ Epoch 1 │       2.2649 │      0.2816 │     1.9943 │    0.308  │\n",
      "├─────────┼──────────────┼─────────────┼────────────┼───────────┤\n",
      "│ Epoch 2 │       2.0533 │      0.328  │     1.8266 │    0.3669 │\n",
      "╘═════════╧══════════════╧═════════════╧════════════╧═══════════╛\n",
      "base | Best model @ epoch 2: loss = 1.8266, acc = 0.3669\n"
     ]
    }
   ],
   "source": [
    "train(epochs=EPOCHS, name=\"base\", num_global_feats=num_global_feats, learning_rate=learning_rate,\n",
    "      use_scheduler=False, alpha=None, gamma=0, reg_weight=reg_weight, use_kan=False, ignore_Tnet=False)"
   ]
  },
  {
   "cell_type": "code",
   "execution_count": 6,
   "metadata": {},
   "outputs": [
    {
     "name": "stdout",
     "output_type": "stream",
     "text": [
      "╒═════════╤══════════════╤═════════════╤════════════╤═══════════╕\n",
      "│ Epoch   │   Train Loss │   Train Acc │   Val Loss │   Val Acc │\n",
      "╞═════════╪══════════════╪═════════════╪════════════╪═══════════╡\n",
      "│ Epoch 1 │      18.9216 │      0.173  │     17.416 │    0.2183 │\n",
      "├─────────┼──────────────┼─────────────┼────────────┼───────────┤\n",
      "│ Epoch 2 │      17.9803 │      0.2071 │     17.246 │    0.1532 │\n",
      "╘═════════╧══════════════╧═════════════╧════════════╧═══════════╛\n",
      "mod | Best model @ epoch 2: loss = 17.2460, acc = 0.1532\n"
     ]
    }
   ],
   "source": [
    "alpha = [3991/106, 3991/515, 3991/889, 3991/200, 3991/200, 3991/465, 3991/200, 3991/680, 3991/392, 3991/344]\n",
    "train(epochs=EPOCHS, name=\"mod\", num_global_feats=num_global_feats, learning_rate=learning_rate,\n",
    "      use_scheduler=True, alpha=alpha, gamma=gamma, reg_weight=reg_weight, use_kan=False, ignore_Tnet=False)"
   ]
  },
  {
   "cell_type": "code",
   "execution_count": 7,
   "metadata": {},
   "outputs": [
    {
     "name": "stdout",
     "output_type": "stream",
     "text": [
      "╒═════════╤══════════════╤═════════════╤════════════╤═══════════╕\n",
      "│ Epoch   │   Train Loss │   Train Acc │   Val Loss │   Val Acc │\n",
      "╞═════════╪══════════════╪═════════════╪════════════╪═══════════╡\n",
      "│ Epoch 1 │       1.7732 │      0.4116 │     1.8032 │    0.401  │\n",
      "├─────────┼──────────────┼─────────────┼────────────┼───────────┤\n",
      "│ Epoch 2 │       1.4761 │      0.4905 │     1.389  │    0.5044 │\n",
      "╘═════════╧══════════════╧═════════════╧════════════╧═══════════╛\n",
      "no_tnet | Best model @ epoch 2: loss = 1.3890, acc = 0.5044\n"
     ]
    }
   ],
   "source": [
    "train(epochs=EPOCHS, name=\"no_tnet\", num_global_feats=num_global_feats, learning_rate=learning_rate,\n",
    "      use_scheduler=False, alpha=None, gamma=0, reg_weight=0, use_kan=False, ignore_Tnet=True)"
   ]
  },
  {
   "cell_type": "markdown",
   "metadata": {},
   "source": [
    "# Dataset Testeo"
   ]
  },
  {
   "cell_type": "code",
   "execution_count": 8,
   "metadata": {},
   "outputs": [],
   "source": [
    "# dataset de prueba\n",
    "base_test_data = ModelNet(classes, DatasetType.TEST, repetitions=1, preserve_original=False,\n",
    "                          transformations=[])\n",
    "affine_test_data = ModelNet(classes, DatasetType.TEST, repetitions=1, preserve_original=False,\n",
    "                          transformations=[Rotation(), Reflection(), Scale(max_ratio=2.5)])\n",
    "complex_test_data = ModelNet(classes, DatasetType.TEST, repetitions=1, preserve_original=False,\n",
    "                          transformations=[Rotation(), Reflection(), Scale(max_ratio=2.5),\n",
    "                                          Jittering(max_units=0.005), DropRandom(loss_ratio=0.4), Noise()])"
   ]
  },
  {
   "cell_type": "code",
   "execution_count": 10,
   "metadata": {},
   "outputs": [
    {
     "name": "stdout",
     "output_type": "stream",
     "text": [
      "Base classifier:\n",
      "\tAccuracy on base dataset:\t 0.5870044052863436\n",
      "\tAccuracy on affine dataset:\t 0.30616740088105726\n",
      "\tAccuracy on complex dataset:\t 0.28744493392070486\n",
      "Modified classifier with KAN, alpha, gamma, scheduler:\n",
      "\tAccuracy on base dataset:\t 0.4129955947136564\n",
      "\tAccuracy on affine dataset:\t 0.19933920704845814\n",
      "\tAccuracy on complex dataset:\t 0.20594713656387664\n",
      "Base classifier without Tnet:\n",
      "\tAccuracy on base dataset:\t 0.7599118942731278\n",
      "\tAccuracy on affine dataset:\t 0.44162995594713655\n",
      "\tAccuracy on complex dataset:\t 0.40308370044052866\n"
     ]
    }
   ],
   "source": [
    "def test_it(classifier_path: str, num_global_feats=num_global_feats, use_kan=False, ignore_Tnet=False):\n",
    "\n",
    "    for data_name, data in [[\"base\", base_test_data], [\"affine\", affine_test_data], [\"complex\", complex_test_data]]:\n",
    "        data_loader = DataLoader(data, batch_size=batch_size, shuffle=False)\n",
    "    \n",
    "        if not use_kan:\n",
    "            classifier = PointNetClassifier(dim, num_points, num_global_feats, num_classes, ignore_Tnet=ignore_Tnet).to(DEVICE)\n",
    "        else:\n",
    "            classifier = PointNetKAN(dim, num_points, num_classes, scaling = 2.0).to(DEVICE)\n",
    "        classifier.load_state_dict(torch.load(classifier_path))\n",
    "\n",
    "        with torch.no_grad():\n",
    "            classifier = classifier.eval()\n",
    "            correct = 0\n",
    "            \n",
    "            for pcds, labels in data_loader:\n",
    "                pcds = pcds.to(DEVICE)\n",
    "                labels = labels.squeeze().to(DEVICE)\n",
    "                \n",
    "                # Hacer predicciones\n",
    "                out, _, _ = classifier(pcds)\n",
    "            \n",
    "                # Calculamos las elecciones\n",
    "                pred_choice = torch.softmax(out, dim=1).argmax(dim=1)\n",
    "                \n",
    "                # Elecciones correctas, acumuladas\n",
    "                correct += pred_choice.eq(labels.data).cpu().sum().item()\n",
    "\n",
    "            test_acc = correct / float(len(data))\n",
    "            print(f\"\\tAccuracy on {data_name} dataset:\\t\", test_acc)\n",
    "\n",
    "# Tests\n",
    "_dir = os.path.join(os.getcwd(), \"checkpoint\", \"best_model\")\n",
    "print(\"Base classifier:\")\n",
    "test_it(os.path.join(_dir, \"base_best_model.pth\"))\n",
    "print(\"Modified classifier with KAN, alpha, gamma, scheduler:\")\n",
    "test_it(os.path.join(_dir, \"mod_best_model.pth\"))\n",
    "print(\"Base classifier without Tnet:\")\n",
    "test_it(os.path.join(_dir, \"no_tnet_best_model.pth\"), ignore_Tnet=True)\n"
   ]
  }
 ],
 "metadata": {
  "kernelspec": {
   "display_name": "venv",
   "language": "python",
   "name": "python3"
  },
  "language_info": {
   "codemirror_mode": {
    "name": "ipython",
    "version": 3
   },
   "file_extension": ".py",
   "mimetype": "text/x-python",
   "name": "python",
   "nbconvert_exporter": "python",
   "pygments_lexer": "ipython3",
   "version": "3.12.3"
  }
 },
 "nbformat": 4,
 "nbformat_minor": 4
}
