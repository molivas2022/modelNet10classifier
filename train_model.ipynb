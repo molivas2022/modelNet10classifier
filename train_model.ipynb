{
 "cells": [
  {
   "cell_type": "code",
   "execution_count": null,
   "metadata": {},
   "outputs": [],
   "source": [
    "## Instalaciones\n",
    "\n",
    "%pip install torch\n",
    "%pip install open3d\n",
    "%pip install tabulate"
   ]
  },
  {
   "cell_type": "code",
   "execution_count": null,
   "metadata": {},
   "outputs": [],
   "source": [
    "## Dependencias\n",
    "\n",
    "import torch\n",
    "import os\n",
    "import open3d as o3d\n",
    "import numpy as np\n",
    "import torch.optim as optim\n",
    "from torch.utils.data import DataLoader\n",
    "from model import PointnetClassifier, PointNetLoss\n",
    "from modelnet10 import ModelNetClass, ModelNet, DatasetType\n",
    "from utils.csv import save_loss_dict\n",
    "from trainer import PointNetTrainer\n",
    "\n",
    "\n",
    "DEVICE = 'cuda' if torch.cuda.is_available() else 'cpu'\n",
    "print(f\"Using {DEVICE}.\")"
   ]
  },
  {
   "cell_type": "code",
   "execution_count": null,
   "metadata": {},
   "outputs": [],
   "source": [
    "# parámetros del dataset\n",
    "classes = [label for label in ModelNetClass]\n",
    "batch_size = 32\n",
    "dim = 3\n",
    "num_points = 1024\n",
    "num_classes = len(classes)\n",
    "\n",
    "# hiperparámetros\n",
    "num_global_feats = 1024     # número de features globales calculadas\n",
    "learning_rate = 0.001\n",
    "reg_weight = 0.001\n",
    "gamma = 2                   # Recomendado por el paper de focal loss\n",
    "\n",
    "\n",
    "train_data = ModelNet(classes, DatasetType.TRAIN)\n",
    "validation_data = ModelNet(classes, DatasetType.VALIDATION)\n",
    "test_data = ModelNet(classes, DatasetType.TEST)\n",
    "\n",
    "test_loader = DataLoader(test_data, batch_size=batch_size, shuffle=False)\n",
    "\n",
    "if DEVICE == \"cuda\":\n",
    "    scheduler = torch.optim.lr_scheduler.CyclicLR(optimizer, base_lr=0.0001, max_lr=0.01, step_size_up=2000, cycle_momentum=False)\n",
    "else:\n",
    "    scheduler = None\n",
    "    \n",
    "# TODO: Más adelante usar alpha para clases imbalanceadas"
   ]
  },
  {
   "cell_type": "code",
   "execution_count": null,
   "metadata": {},
   "outputs": [],
   "source": [
    "classifier = PointnetClassifier(dim, num_points, num_global_feats, num_classes).to(DEVICE)\n",
    "\n",
    "base_trainer = PointNetTrainer(\n",
    "    name=\"pointnet_base\",\n",
    "    model=classifier,\n",
    "    optimizer=optim.Adam(classifier.parameters(), lr=learning_rate),\n",
    "    scheduler=scheduler,\n",
    "    criterion=PointNetLoss(alpha=None, gamma=gamma, reg_weight=reg_weight, size_average=True).to(DEVICE),\n",
    "    device=DEVICE,\n",
    "    train_loader=DataLoader(train_data, batch_size=batch_size, shuffle=True),\n",
    "    val_loader=DataLoader(validation_data, batch_size=batch_size, shuffle=False),\n",
    "    checkpoint_dir=os.path.join(os.getcwd(), \"checkpoint\"),\n",
    "    checkpoint_freq=25\n",
    ")"
   ]
  },
  {
   "cell_type": "code",
   "execution_count": null,
   "metadata": {},
   "outputs": [],
   "source": [
    "loss_dict, best_epoch, best_loss, best_acc = base_trainer.fit(epochs=500)\n",
    "save_loss_dict(loss_dict)\n",
    "print(f\"Best model @ epoch {best_epoch}: loss = {best_loss:.4f}, acc = {best_acc:.4f}\")"
   ]
  },
  {
   "cell_type": "markdown",
   "metadata": {},
   "source": [
    "# Dataset Testeo"
   ]
  },
  {
   "cell_type": "code",
   "execution_count": null,
   "metadata": {},
   "outputs": [],
   "source": [
    "with torch.no_grad():\n",
    "    classifier = classifier.eval()\n",
    "    correct = 0\n",
    "    \n",
    "    for pcds, labels in test_loader:\n",
    "        pcds = pcds.to(DEVICE)\n",
    "        labels = labels.squeeze().to(DEVICE)\n",
    "        \n",
    "        # Hacer predicciones\n",
    "        out, _, _ = classifier(pcds)\n",
    "    \n",
    "        # Calculamos las elecciones\n",
    "        pred_choice = torch.softmax(out, dim=1).argmax(dim=1)\n",
    "        \n",
    "        # Elecciones correctas, acumuladas\n",
    "        correct += pred_choice.eq(labels.data).cpu().sum().item()\n",
    "\n",
    "    test_acc = correct / float(len(test_data))\n",
    "    print(\"Test Acc:\\t\", test_acc)"
   ]
  },
  {
   "cell_type": "code",
   "execution_count": null,
   "metadata": {},
   "outputs": [],
   "source": [
    "def test_it(path):\n",
    "    classifier = PointnetClassifier(dim, num_points, num_global_feats, num_classes).to(DEVICE)\n",
    "    classifier.load_state_dict(torch.load(path))\n",
    "\n",
    "    with torch.no_grad():\n",
    "        classifier = classifier.eval()\n",
    "        correct = 0\n",
    "        \n",
    "        for pcds, labels in test_loader:\n",
    "            pcds = pcds.to(DEVICE)\n",
    "            labels = labels.squeeze().to(DEVICE)\n",
    "            \n",
    "            # Hacer predicciones\n",
    "            out, _, _ = classifier(pcds)\n",
    "        \n",
    "            # Calculamos las elecciones\n",
    "            pred_choice = torch.softmax(out, dim=1).argmax(dim=1)\n",
    "            \n",
    "            # Elecciones correctas, acumuladas\n",
    "            correct += pred_choice.eq(labels.data).cpu().sum().item()\n",
    "\n",
    "        test_acc = correct / float(len(test_data))\n",
    "        print(f\"{path}\\t\\t\", test_acc)\n",
    "\n",
    "# Tests\n",
    "for i in range(25, 500 + 1, 25):\n",
    "    path = os.path.join(CHECKPOINT_DIR, f\"model_epoch_{str(i).zfill(4)}.pth\")\n",
    "    test_it(path)\n",
    "path = os.path.join(CHECKPOINT_DIR, \"best_model.pth\")\n",
    "test_it(path)"
   ]
  }
 ],
 "metadata": {
  "kernelspec": {
   "display_name": "Python 3 (ipykernel)",
   "language": "python",
   "name": "python3"
  },
  "language_info": {
   "codemirror_mode": {
    "name": "ipython",
    "version": 3
   },
   "file_extension": ".py",
   "mimetype": "text/x-python",
   "name": "python",
   "nbconvert_exporter": "python",
   "pygments_lexer": "ipython3",
   "version": "3.11.4"
  }
 },
 "nbformat": 4,
 "nbformat_minor": 4
}
