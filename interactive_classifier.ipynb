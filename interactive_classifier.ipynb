{
 "cells": [
  {
   "cell_type": "code",
   "execution_count": null,
   "metadata": {},
   "outputs": [],
   "source": [
    "## Instalaciones\n",
    "\n",
    "%pip install pytorch\n",
    "%pip install open3d\n",
    "%pip install plotly\n",
    "%pip install \"notebook>=7.0\" \"anywidget>=0.9.13\""
   ]
  },
  {
   "cell_type": "code",
   "execution_count": 1,
   "metadata": {},
   "outputs": [
    {
     "name": "stdout",
     "output_type": "stream",
     "text": [
      "Jupyter environment detected. Enabling Open3D WebVisualizer.\n",
      "[Open3D INFO] WebRTC GUI backend enabled.\n",
      "[Open3D INFO] WebRTCWindowSystem: HTTP handshake server disabled.\n",
      "Using cuda.\n"
     ]
    }
   ],
   "source": [
    "## Dependencias\n",
    "\n",
    "import os\n",
    "from utils.plotter import notebook_plot_pcd_from_points\n",
    "from random import randrange\n",
    "import ipywidgets as widgets\n",
    "from IPython.display import display, clear_output, HTML\n",
    "from modelnet10 import ModelNetClass, ModelNet, DatasetType\n",
    "from model import PointNetClassifier, PointNetLoss\n",
    "from utils.transformation import (Normalization,\n",
    "                                  Rotation, Translation, Reflection, Scale,\n",
    "                                  DropRandom, DropSphere, Jittering, Noise)\n",
    "import torch\n",
    "import open3d as o3d\n",
    "import numpy as np\n",
    "\n",
    "DEVICE = 'cuda' if torch.cuda.is_available() else 'cpu'\n",
    "print(f\"Using {DEVICE}.\")"
   ]
  },
  {
   "cell_type": "code",
   "execution_count": 8,
   "metadata": {},
   "outputs": [],
   "source": [
    "## Parametros y constantes\n",
    "\n",
    "IGNORE_CLASSIFIER = True\n",
    "\n",
    "ROOT_DIR = os.getcwd()\n",
    "MODEL_DIR = os.path.join(ROOT_DIR, \"checkpoint\", \"best_model.pth\")\n",
    "\n",
    "classes = [label for label in ModelNetClass]\n",
    "dim = 3\n",
    "num_points = 1024\n",
    "num_classes = len(classes)\n",
    "num_global_feats = 1024 \n",
    "\n",
    "t = [Rotation(), Reflection(), Scale(max_ratio=3.0),\n",
    "    Jittering(max_units=0.005), DropRandom(loss_ratio=0.4), Noise()]\n",
    "data = ModelNet(classes, DatasetType.TEST, repetitions=3, transformations=t, normalize=True, preserve_original=False)"
   ]
  },
  {
   "cell_type": "code",
   "execution_count": 9,
   "metadata": {},
   "outputs": [],
   "source": [
    "## Inicialización de objetos y funciones\n",
    "\n",
    "if not IGNORE_CLASSIFIER:\n",
    "    classifier = PointNetClassifier(dim, num_points, num_global_feats, num_classes).to(DEVICE)\n",
    "    classifier.load_state_dict(torch.load(MODEL_DIR))\n",
    "\n",
    "def map_label(num):\n",
    "    return classes[num].label\n",
    "\n",
    "def prettier(string):\n",
    "    return string.replace(\"_\", \" \").capitalize()\n",
    "\n",
    "def predicted_class(pcd):\n",
    "    out, _, _ = classifier(pcd)\n",
    "    pred_choice = torch.softmax(out, dim=1).argmax(dim=1)\n",
    "    return map_label(pred_choice)\n",
    "\n",
    "def random_sample():\n",
    "    index = randrange(data.__len__())\n",
    "    _return = data.__getitem__(index)\n",
    "    return _return[0].transpose(1, 0), _return[1]\n",
    "\n",
    "def pcd_path_to_tensor(pcd_path):\n",
    "    X = list()\n",
    "    pcd = o3d.io.read_point_cloud(pcd_path)\n",
    "    points = np.asarray(pcd.points, dtype=float)\n",
    "    X.append(points)\n",
    "    X = np.transpose(X, (0, 2, 1))\n",
    "    X = torch.tensor(X, dtype=torch.float32)\n",
    "\n",
    "    return X"
   ]
  },
  {
   "cell_type": "code",
   "execution_count": 10,
   "metadata": {},
   "outputs": [
    {
     "data": {
      "application/vnd.jupyter.widget-view+json": {
       "model_id": "1ce7b9c81c28448ead013bf757e57595",
       "version_major": 2,
       "version_minor": 0
      },
      "text/plain": [
       "Button(description='Generar ejemplo', style=ButtonStyle())"
      ]
     },
     "metadata": {},
     "output_type": "display_data"
    },
    {
     "data": {
      "application/vnd.jupyter.widget-view+json": {
       "model_id": "954b3799122048d1906ae831de1193e2",
       "version_major": 2,
       "version_minor": 0
      },
      "text/plain": [
       "Output()"
      ]
     },
     "metadata": {},
     "output_type": "display_data"
    },
    {
     "data": {
      "application/vnd.jupyter.widget-view+json": {
       "model_id": "834556b573c14b6f93c5a49c7f2623b5",
       "version_major": 2,
       "version_minor": 0
      },
      "text/plain": [
       "Output()"
      ]
     },
     "metadata": {},
     "output_type": "display_data"
    }
   ],
   "source": [
    "# Widgets de output\n",
    "button = widgets.Button(description=\"Generar ejemplo\")\n",
    "output_plot = widgets.Output()\n",
    "output_text = widgets.Output()\n",
    "\n",
    "def visualize_random_point_cloud(b=None):\n",
    "    with output_plot:\n",
    "        clear_output(wait=True)\n",
    "\n",
    "        # Selección aleatoria\n",
    "        x, label = random_sample()\n",
    "\n",
    "        # Visualización\n",
    "        notebook_plot_pcd_from_points(x, output_size=(1000,400), zoom=1.0)\n",
    "\n",
    "        # Predicción y formato\n",
    "        if not IGNORE_CLASSIFIER:\n",
    "            pred = predicted_class(x)\n",
    "            match = (pred == label)\n",
    "            color = \"#2ECC40\" if match else \"#FF4136\"\n",
    "            pred = prettier(pred)\n",
    "            label = prettier(label)\n",
    "\n",
    "            with output_text:\n",
    "                clear_output(wait=True)\n",
    "                display(HTML(f\"\"\"\n",
    "<div style=\"font-size: 20px; font-family: Arial, sans-serif; border: 1px solid #ccc; padding: 15px; border-radius: 10px; background-color: #f9f9f9; width: fit-content;\">\n",
    "  <div><strong style=\"color: #444;\">Ground Truth:</strong> <span style=\"color: {color};\">{label}</span></div>\n",
    "  <div><strong style=\"color: #444;\">Predicted Class:</strong> <span style=\"color: {color};\">{pred}</span></div>\n",
    "</div>\n",
    "\"\"\"))\n",
    "        else:\n",
    "            color = \"#00008B\"\n",
    "            label = prettier(map_label(label))\n",
    "\n",
    "            with output_text:\n",
    "                clear_output(wait=True)\n",
    "                display(HTML(f\"\"\"\n",
    "<div style=\"font-size: 20px; font-family: Arial, sans-serif; border: 1px solid #ccc; padding: 15px; border-radius: 10px; background-color: #f9f9f9; width: fit-content;\">\n",
    "  <div><strong style=\"color: #444;\">Class:</strong> <span style=\"color: {color};\">{label}</span></div>\n",
    "</div>\n",
    "\"\"\"))\n",
    "\n",
    "# Inicialización\n",
    "button.on_click(visualize_random_point_cloud)\n",
    "display(button, output_plot, output_text)\n",
    "visualize_random_point_cloud()"
   ]
  },
  {
   "cell_type": "code",
   "execution_count": null,
   "metadata": {},
   "outputs": [],
   "source": []
  }
 ],
 "metadata": {
  "kernelspec": {
   "display_name": "Python 3 (ipykernel)",
   "language": "python",
   "name": "python3"
  },
  "language_info": {
   "codemirror_mode": {
    "name": "ipython",
    "version": 3
   },
   "file_extension": ".py",
   "mimetype": "text/x-python",
   "name": "python",
   "nbconvert_exporter": "python",
   "pygments_lexer": "ipython3",
   "version": "3.11.4"
  }
 },
 "nbformat": 4,
 "nbformat_minor": 4
}
